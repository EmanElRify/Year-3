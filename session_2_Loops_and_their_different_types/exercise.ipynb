{
 "cells": [
  {
   "cell_type": "code",
   "execution_count": 8,
   "metadata": {},
   "outputs": [
    {
     "name": "stdout",
     "output_type": "stream",
     "text": [
      "[10, 20, 30, 40, 50, 60]\n"
     ]
    }
   ],
   "source": [
    "my_list = [10, 20, 30, 40, 50]\n",
    "my_list.append(60)\n",
    "print(my_list)"
   ]
  },
  {
   "cell_type": "code",
   "execution_count": 9,
   "metadata": {},
   "outputs": [
    {
     "name": "stdout",
     "output_type": "stream",
     "text": [
      "[10, 20, 40, 50, 30]\n"
     ]
    }
   ],
   "source": [
    "my_list = [10, 20, 30, 40, 50, 30]\n",
    "my_list.remove(30)\n",
    "print(my_list)"
   ]
  },
  {
   "cell_type": "code",
   "execution_count": 13,
   "metadata": {},
   "outputs": [
    {
     "name": "stdout",
     "output_type": "stream",
     "text": [
      "[10, 20, 40, 50, 30, 30, 30]\n",
      "[10, 20, 40, 50]\n"
     ]
    }
   ],
   "source": [
    "my_list = [10, 20, 30, 40, 50, 30, 30, 30, 30]\n",
    "my_list.remove(30)\n",
    "my_list.remove(30)\n",
    "print(my_list)\n",
    "modified_list = []\n",
    "for item in my_list:\n",
    "    if item != 30:\n",
    "        modified_list.append(item)\n",
    "print(modified_list)\n",
    "        "
   ]
  },
  {
   "cell_type": "code",
   "execution_count": 14,
   "metadata": {},
   "outputs": [
    {
     "name": "stdout",
     "output_type": "stream",
     "text": [
      "30\n"
     ]
    }
   ],
   "source": [
    "my_list = [10, 20, 30, 40, 50]\n",
    "print(my_list[2])\n"
   ]
  },
  {
   "cell_type": "code",
   "execution_count": 25,
   "metadata": {},
   "outputs": [
    {
     "name": "stdout",
     "output_type": "stream",
     "text": [
      "[20, 30, 40]\n"
     ]
    }
   ],
   "source": [
    "my_list = [10, 20, 30, 40, 50]\n",
    "print(my_list[1:4])"
   ]
  },
  {
   "cell_type": "code",
   "execution_count": 26,
   "metadata": {},
   "outputs": [
    {
     "name": "stdout",
     "output_type": "stream",
     "text": [
      "[5, 20, 30, 40, 50]\n"
     ]
    }
   ],
   "source": [
    "my_list = [10, 20, 30, 40, 50]\n",
    "my_list[0] = 5\n",
    "print(my_list)"
   ]
  },
  {
   "cell_type": "code",
   "execution_count": 28,
   "metadata": {},
   "outputs": [
    {
     "name": "stdout",
     "output_type": "stream",
     "text": [
      "[70, 80, 90, 10, 20, 30, 40, 50]\n"
     ]
    }
   ],
   "source": [
    "my_list = [10, 20, 30, 40, 50]\n",
    "new_list = [70, 80, 90]\n",
    "combined_list = new_list + my_list\n",
    "print(combined_list)\n"
   ]
  },
  {
   "cell_type": "code",
   "execution_count": 29,
   "metadata": {},
   "outputs": [
    {
     "name": "stdout",
     "output_type": "stream",
     "text": [
      "5\n"
     ]
    }
   ],
   "source": [
    "print(len(my_list))"
   ]
  },
  {
   "cell_type": "code",
   "execution_count": 36,
   "metadata": {},
   "outputs": [
    {
     "name": "stdout",
     "output_type": "stream",
     "text": [
      "Nadine\n",
      "Ali\n",
      "Kareem\n"
     ]
    }
   ],
   "source": [
    "my_list = [\"Nadine\", \"Ali\", \"Kareem\"]\n",
    "for name in my_list:\n",
    "    print(name)"
   ]
  },
  {
   "cell_type": "code",
   "execution_count": null,
   "metadata": {},
   "outputs": [
    {
     "name": "stdout",
     "output_type": "stream",
     "text": [
      "1\n",
      "--------\n",
      "2\n",
      "--------\n",
      "3\n",
      "--------\n",
      "4\n",
      "--------\n",
      "5\n",
      "--------\n"
     ]
    }
   ],
   "source": [
    "x = [1, 2, 3 , 4 , 5]\n",
    "for i in x:\n",
    "   #i = 5\n",
    "   print(i)\n",
    "   print('--------')\n",
    "   \n",
    "   \"\"\"\n",
    "   1\n",
    "   --------\n",
    "   2\n",
    "   --------\n",
    "   3\n",
    "   --------\n",
    "   4\n",
    "   --------\n",
    "   5\n",
    "   --------\n",
    "   \"\"\""
   ]
  },
  {
   "cell_type": "code",
   "execution_count": 38,
   "metadata": {},
   "outputs": [
    {
     "name": "stdout",
     "output_type": "stream",
     "text": [
      "1\n",
      "--------\n",
      "2\n",
      "--------\n",
      "3\n",
      "--------\n",
      "4\n",
      "--------\n"
     ]
    }
   ],
   "source": [
    "x = [1, 2, 3 , 4]\n",
    "for i in x:\n",
    "   print(i)\n",
    "   print('--------')\n"
   ]
  },
  {
   "cell_type": "code",
   "execution_count": null,
   "metadata": {},
   "outputs": [
    {
     "name": "stdout",
     "output_type": "stream",
     "text": [
      "1\n",
      "--------\n",
      "1\n",
      "**\n",
      "2\n",
      "**\n",
      "2\n",
      "--------\n",
      "1\n",
      "**\n",
      "2\n",
      "**\n",
      "3\n",
      "--------\n",
      "1\n",
      "**\n",
      "2\n",
      "**\n",
      "4\n",
      "--------\n",
      "1\n",
      "**\n",
      "2\n",
      "**\n"
     ]
    },
    {
     "data": {
      "text/plain": [
       "'\\n1\\n--------\\n1\\n**\\n2\\n**\\n2\\n--------\\n1\\n**\\n2\\n**\\n3\\n--------\\n1\\n**\\n2\\n**\\n\\n'"
      ]
     },
     "execution_count": 39,
     "metadata": {},
     "output_type": "execute_result"
    }
   ],
   "source": [
    "x = [1, 2, 3 , 4]\n",
    "for i in x:\n",
    "   print(i)\n",
    "   print('--------')\n",
    "   for y in [1,2]:\n",
    "       print(y)\n",
    "       print('**')\n",
    "       \n",
    "\"\"\"\n",
    "    1\n",
    "    --------\n",
    "    2\n",
    "    --------\n",
    "    5\n",
    "    --------\n",
    "    1\n",
    "    **\n",
    "    2\n",
    "    **\n",
    "\"\"\"\n",
    "\"\"\"\n",
    "1\n",
    "--------\n",
    "1\n",
    "**\n",
    "2\n",
    "**\n",
    "2\n",
    "--------\n",
    "1\n",
    "**\n",
    "2\n",
    "**\n",
    "3\n",
    "--------\n",
    "1\n",
    "**\n",
    "2\n",
    "**\n",
    "\n",
    "\"\"\"\n"
   ]
  },
  {
   "cell_type": "code",
   "execution_count": 40,
   "metadata": {},
   "outputs": [
    {
     "name": "stdout",
     "output_type": "stream",
     "text": [
      "1\n",
      "--------\n",
      "2\n",
      "--------\n",
      "3\n",
      "--------\n",
      "4\n",
      "--------\n",
      "1\n",
      "**\n",
      "2\n",
      "**\n"
     ]
    }
   ],
   "source": [
    "x = [1, 2, 3 , 4]\n",
    "for i in x:\n",
    "   print(i)\n",
    "   print('--------')\n",
    "for y in [1,2]:\n",
    "    print(y)\n",
    "    print('**')\n",
    "    \n",
    "    \n",
    "    \"\"\"\n",
    "    1\n",
    "    --------\n",
    "    2\n",
    "    --------\n",
    "    3\n",
    "    --------\n",
    "    4\n",
    "    --------\n",
    "    5\n",
    "    --------\n",
    "    1\n",
    "    **\n",
    "    2\n",
    "    **    \n",
    "    \n",
    "    \n",
    "    \n",
    "    \"\"\""
   ]
  },
  {
   "cell_type": "code",
   "execution_count": 41,
   "metadata": {},
   "outputs": [
    {
     "name": "stdout",
     "output_type": "stream",
     "text": [
      "0\n",
      "1\n",
      "2\n",
      "3\n",
      "4\n",
      "5\n",
      "6\n",
      "7\n",
      "8\n",
      "9\n"
     ]
    }
   ],
   "source": [
    "x = 0\n",
    "while x < 10:\n",
    "    print(x)\n",
    "    x += 1"
   ]
  },
  {
   "cell_type": "code",
   "execution_count": 2,
   "metadata": {},
   "outputs": [
    {
     "name": "stdout",
     "output_type": "stream",
     "text": [
      "Hi Mohamed,\n",
      "You are invited to my party!\n",
      "Hi Youssef,\n",
      "You are invited to my party!\n",
      "Hi Ali,\n",
      "You are invited to my party!\n",
      "Hi Mariam,\n",
      "You are invited to my party!\n",
      "Hi Reem,\n",
      "You are invited to my party!\n",
      "Hi Sara,\n",
      "You are invited to my party!\n"
     ]
    }
   ],
   "source": [
    "Guest_1 = \"Mohamed\"\n",
    "print(\"Hi \"+Guest_1+\",\")\n",
    "print(\"You are invited to my party!\")\n",
    "Guest_2 = \"Youssef\"\n",
    "print(\"Hi \"+Guest_2+\",\")\n",
    "print(\"You are invited to my party!\")\n",
    "Guest_3 = \"Ali\"\n",
    "print(\"Hi \"+Guest_3+\",\")\n",
    "print(\"You are invited to my party!\")\n",
    "Guest_4 = \"Mariam\"\n",
    "print(\"Hi \"+Guest_4+\",\")\n",
    "print(\"You are invited to my party!\")\n",
    "Guest_5 = \"Reem\"\n",
    "print(\"Hi \"+Guest_5+\",\")\n",
    "print(\"You are invited to my party!\")\n",
    "Guest_6 = \"Sara\"\n",
    "print(\"Hi \"+Guest_6+\",\")\n",
    "print(\"You are invited to my party!\")\n"
   ]
  },
  {
   "cell_type": "code",
   "execution_count": null,
   "metadata": {},
   "outputs": [
    {
     "name": "stdout",
     "output_type": "stream",
     "text": [
      "Hi Mohamed,\n",
      "You are invited to my party!\n",
      "Hi Youssef,\n",
      "You are invited to my party!\n",
      "Hi Ali,\n",
      "You are invited to my party!\n",
      "Hi Mariam,\n",
      "You are invited to my party!\n",
      "Hi Reem,\n",
      "You are invited to my party!\n",
      "Hi Sara,\n",
      "You are invited to my party!\n"
     ]
    }
   ],
   "source": [
    "Guests = [\"Mohamed\", \"Youssef\", \"Ali\", \"Mariam\", \"Reem\", \"Sara\"]\n",
    "for Guest in Guests:\n",
    "    print(\"Hi \" + Guest+\",\")\n",
    "    print(\"You are invited to my party!\")"
   ]
  },
  {
   "cell_type": "code",
   "execution_count": 35,
   "metadata": {},
   "outputs": [
    {
     "name": "stdout",
     "output_type": "stream",
     "text": [
      "Hi Mohamed,\n",
      "You are invited to my party!\n"
     ]
    }
   ],
   "source": [
    "print(\"Hi \"+Guests[-6]+\",\")\n",
    "print(\"You are invited to my party!\")"
   ]
  },
  {
   "cell_type": "code",
   "execution_count": 31,
   "metadata": {},
   "outputs": [
    {
     "name": "stdout",
     "output_type": "stream",
     "text": [
      "x\n"
     ]
    }
   ],
   "source": [
    "x = \"x\"\n",
    "print(x)"
   ]
  }
 ],
 "metadata": {
  "kernelspec": {
   "display_name": "Python 3",
   "language": "python",
   "name": "python3"
  },
  "language_info": {
   "codemirror_mode": {
    "name": "ipython",
    "version": 3
   },
   "file_extension": ".py",
   "mimetype": "text/x-python",
   "name": "python",
   "nbconvert_exporter": "python",
   "pygments_lexer": "ipython3",
   "version": "3.10.7"
  }
 },
 "nbformat": 4,
 "nbformat_minor": 2
}
